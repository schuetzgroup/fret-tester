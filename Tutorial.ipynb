{
 "cells": [
  {
   "cell_type": "markdown",
   "metadata": {},
   "source": [
    "# How to use `fret_tester` to determine FRET kinetics\n",
    "\n",
    "This is part of the `fret-tester` Python package.\n",
    "\n",
    "For details, see the project [web page](https://github.com/schuetzgroup/fret-tester) and read the article\n",
    "*Schrangl, Lukas; Göhring, Janett; Schütz,\n",
    "  Gerhard J. (2018):\n",
    "  “Kinetic analysis of single molecule FRET transitions without trajectories.”\n",
    "  In: The Journal of Chemical Physics, 148 (2018), H. 12, p. 123328.*\n",
    "  Available at: [DOI: 10.1063/1.5006038](https://doi.org/10.1063/1.5006038>)."
   ]
  },
  {
   "cell_type": "markdown",
   "metadata": {},
   "source": [
    "## Preliminaries\n",
    "\n",
    "Import Python packages, set up some variables, and load experiment data."
   ]
  },
  {
   "cell_type": "code",
   "execution_count": 1,
   "metadata": {},
   "outputs": [],
   "source": [
    "import os\n",
    "from glob import glob\n",
    "\n",
    "import numpy as np\n",
    "from scipy import stats\n",
    "import matplotlib.pyplot as plt\n",
    "%matplotlib inline\n",
    "\n",
    "import fret_tester"
   ]
  },
  {
   "cell_type": "code",
   "execution_count": 2,
   "metadata": {},
   "outputs": [],
   "source": [
    "data_dir = \"tutorial_data\"  # sample data\n",
    "\n",
    "# For the donor brightness distributions, the standard deviation s was determined\n",
    "# in a separate experiment as a function of the mean, s = 0.3 * m - 13.61\n",
    "don_br = fret_tester.PolyLnBrightness([0.3, -13.61])\n",
    "# For the acceptor, it is s = 0.3 * m - 1.92\n",
    "acc_br = fret_tester.PolyLnBrightness([0.3, -1.92])\n",
    "\n",
    "# Exposure times the smFRET experiments were conducted at\n",
    "t_exp = [0.3, 3, 30]\n",
    "# Time per frame to ensure that data points are not correlated\n",
    "# If no prior information about state lifetimes is available, this can be\n",
    "# guessed from preliminary experiments at different exposure times.\n",
    "t_fr = 10\n",
    "# Number of data points to simulate for each parameter combination\n",
    "data_points = 10000"
   ]
  },
  {
   "cell_type": "code",
   "execution_count": 3,
   "metadata": {},
   "outputs": [],
   "source": [
    "## Create simulated datasets in place of real experimental ones\n",
    "true_lifetimes = [2, 4]\n",
    "true_eff = [0.2, 0.8]\n",
    "true_phot = 200\n",
    "#\n",
    "#tr = fret_tester.TwoStateExpTruth(true_lifetimes, true_eff)\n",
    "#for t in t_exp:\n",
    "#    d = fret_tester.simulate_dataset(tr, t, data_points, true_phot,\n",
    "#                                     don_br, acc_br, t_fr)\n",
    "#    np.savez_compressed(os.path.join(data_dir, \"{:04.1f}ms.npz\".format(t)),\n",
    "#                        **d._asdict())"
   ]
  },
  {
   "cell_type": "code",
   "execution_count": 4,
   "metadata": {},
   "outputs": [],
   "source": [
    "# Load experimental data (simulated in the cell above)\n",
    "\n",
    "# For each exposure time, this will hold the list of measured single\n",
    "# molecule FRET efficiencies\n",
    "exp_eff = {}\n",
    "# For each exposure time, this will hold the mean photon number\n",
    "photons = {}\n",
    "for t in t_exp:\n",
    "    with np.load(os.path.join(data_dir, \"{:04.1f}ms.npz\".format(t))) as d:\n",
    "        don = d[\"exp_don\"]  # donor brightness for each fluorophore\n",
    "        acc = d[\"exp_acc\"]  # acceptor brightness for each fluorophore\n",
    "        exp_eff[t] = acc / (don + acc)  # FRET efficiencies\n",
    "        photons[t] = np.mean(don + acc)  # Mean total number of photons"
   ]
  },
  {
   "cell_type": "markdown",
   "metadata": {},
   "source": [
    "smFRET efficiency distributions:"
   ]
  },
  {
   "cell_type": "code",
   "execution_count": 5,
   "metadata": {},
   "outputs": [
    {
     "data": {
      "image/png": "[encoded data removed]",
      "text/plain": [
       "<matplotlib.figure.Figure at 0x7f9d18e62cc0>"
      ]
     },
     "metadata": {},
     "output_type": "display_data"
    }
   ],
   "source": [
    "fig, ax = plt.subplots(1, 3, figsize=(12, 3))\n",
    "for a, (t, e) in zip(ax, exp_eff.items()):\n",
    "    a.hist(e, bins=np.linspace(0, 1, 50))\n",
    "    a.set_title(\"$t_{{ex}}$ = {}\".format(t))"
   ]
  },
  {
   "cell_type": "code",
   "execution_count": 6,
   "metadata": {},
   "outputs": [
    {
     "name": "stdout",
     "output_type": "stream",
     "text": [
      "Mean FRET efficiencies: E1 = 0.21, E2 = 0.79\n"
     ]
    }
   ],
   "source": [
    "# To find out about mean FRET efficiencies, fit a mixture of beta functions\n",
    "# at the shortest exposure time\n",
    "p, par1, par2 = fret_tester.bi_beta_fit(exp_eff[0.3], 100)\n",
    "mean_eff = [stats.beta.mean(*par1), stats.beta.mean(*par2)]\n",
    "print(\"Mean FRET efficiencies: E1 = {:.2f}, E2 = {:.2f}\".format(*mean_eff))"
   ]
  },
  {
   "cell_type": "markdown",
   "metadata": {},
   "source": [
    "## Run the analyis"
   ]
  },
  {
   "cell_type": "code",
   "execution_count": 7,
   "metadata": {},
   "outputs": [],
   "source": [
    "# For the simulations, test the lifetime of states 1 and 2 both\n",
    "# in the range between 1 and 10 in 50 logarithmic steps\n",
    "test_times1 = test_times2 = np.logspace(0, 1, 50)\n",
    "# Create a meshgrid to test all combinations of lifetimes\n",
    "tt = np.meshgrid(test_times1, test_times2, indexing=\"ij\")\n",
    "\n",
    "p_val = {}  # This will hold the p-value array at different exposure times\n",
    "for t in t_exp:\n",
    "    p_val[t] = fret_tester.batch_test(\n",
    "        tt, mean_eff, t, data_points, photons[t], exp_eff[t], don_br, acc_br)"
   ]
  },
  {
   "cell_type": "code",
   "execution_count": 8,
   "metadata": {},
   "outputs": [
    {
     "data": {
      "image/png": "[encoded data removed]",
      "text/plain": [
       "<matplotlib.figure.Figure at 0x7f9d16b1ae80>"
      ]
     },
     "metadata": {},
     "output_type": "display_data"
    }
   ],
   "source": [
    "# Plot results\n",
    "fig = plt.figure(figsize=(12, 3))\n",
    "pl = fret_tester.Plotter2D()\n",
    "pl.plot_series([[test_times1, test_times2]]*len(t_exp),\n",
    "                [p_val[t] for t in t_exp],\n",
    "                truths=[true_lifetimes]*len(t_exp));"
   ]
  },
  {
   "cell_type": "markdown",
   "metadata": {},
   "source": [
    "This did not work.\n",
    "\n",
    "The method is rather sensitive to the mean FRET efficiency input parameter to the simulations and the efficiencies determined by fitting the histogram is bound to overestimate the lower and underestimate the upper efficiency. Therefore try again with the lower value reduced and the upper value increased by 1%."
   ]
  },
  {
   "cell_type": "code",
   "execution_count": 9,
   "metadata": {},
   "outputs": [],
   "source": [
    "mean_eff_corr = [mean_eff[0] - 0.01, mean_eff[1] + 0.01]\n",
    "p_val_corr = {}\n",
    "for t in t_exp:\n",
    "    p_val_corr[t] = fret_tester.batch_test(\n",
    "        tt, mean_eff_corr, t, data_points, photons[t], exp_eff[t], don_br, acc_br)"
   ]
  },
  {
   "cell_type": "code",
   "execution_count": 10,
   "metadata": {},
   "outputs": [
    {
     "data": {
      "image/png": "[encoded data removed]",
      "text/plain": [
       "<matplotlib.figure.Figure at 0x7f9d1691ab00>"
      ]
     },
     "metadata": {},
     "output_type": "display_data"
    }
   ],
   "source": [
    "fig = plt.figure(figsize=(12, 3))\n",
    "pl = fret_tester.Plotter2D()\n",
    "pl.plot_series([[test_times1, test_times2]]*len(t_exp),\n",
    "                [p_val_corr[t] for t in t_exp],\n",
    "                truths=[true_lifetimes]*len(t_exp));"
   ]
  },
  {
   "cell_type": "code",
   "execution_count": null,
   "metadata": {},
   "outputs": [],
   "source": []
  }
 ],
 "metadata": {
  "kernelspec": {
   "display_name": "Python 3",
   "language": "python",
   "name": "python3"
  },
  "language_info": {
   "codemirror_mode": {
    "name": "ipython",
    "version": 3
   },
   "file_extension": ".py",
   "mimetype": "text/x-python",
   "name": "python",
   "nbconvert_exporter": "python",
   "pygments_lexer": "ipython3",
   "version": "3.6.4"
  }
 },
 "nbformat": 4,
 "nbformat_minor": 2
}
